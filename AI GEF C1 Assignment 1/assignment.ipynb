{
 "cells": [
  {
   "cell_type": "code",
   "execution_count": 20,
   "id": "db225ef8",
   "metadata": {},
   "outputs": [],
   "source": [
    "import pandas as pd"
   ]
  },
  {
   "cell_type": "code",
   "execution_count": 21,
   "id": "99b1303f",
   "metadata": {},
   "outputs": [
    {
     "name": "stdout",
     "output_type": "stream",
     "text": [
      "{'London': '30-08-2024', 'Tokyo': '30-08-2024', 'Sydney': '28-08-2024', 'Cairo': '30-08-2024', 'Rio': '30-08-2024'}\n"
     ]
    }
   ],
   "source": [
    "from pandas import DataFrame\n",
    "\n",
    "df = pd.read_csv(\"city_temperature.csv\")\n",
    "\n",
    "def MaxTemp(df:DataFrame):\n",
    "    dict = {}\n",
    "    for city in df.columns.drop(\"Date\"):\n",
    "        filter = df.loc[df[city].idxmax(), ['Date']]\n",
    "        dict[city] = filter[\"Date\"]\n",
    "    return dict\n",
    "\n",
    "print(MaxTemp(df))\n",
    "\n",
    "    \n",
    "    \n"
   ]
  },
  {
   "cell_type": "code",
   "execution_count": 22,
   "id": "c8a0fb4e",
   "metadata": {},
   "outputs": [
    {
     "name": "stdout",
     "output_type": "stream",
     "text": [
      "{'London': {'August': 20.59032258064516, 'July': 19.60967741935484, 'June': 17.44333333333333}, 'Tokyo': {'August': 30.529032258064515, 'July': 28.53548387096774, 'June': 25.64333333333333}, 'Sydney': {'August': 14.948387096774193, 'July': 14.041935483870969, 'June': 13.933333333333334}, 'Cairo': {'August': 35.483870967741936, 'July': 33.538709677419355, 'June': 31.02}, 'Rio': {'August': 26.083870967741937, 'July': 24.270967741935483, 'June': 22.523333333333333}}\n"
     ]
    }
   ],
   "source": [
    "from pandas import DataFrame\n",
    "\n",
    "df = pd.read_csv(\"city_temperature.csv\")\n",
    "df['Month'] = pd.to_datetime(df['Date'], dayfirst=True).dt.month_name(locale='English')\n",
    "\n",
    "def MeanTempMonthWise(df:DataFrame):\n",
    "    dict = {}\n",
    "    for city in df.columns.drop(\"Date\").drop(\"Month\"):\n",
    "        filter = df.groupby(\"Month\")[city].mean().to_dict()\n",
    "        dict[city] = filter\n",
    "    return dict\n",
    "\n",
    "print(MeanTempMonthWise(df))\n",
    "\n"
   ]
  },
  {
   "cell_type": "code",
   "execution_count": 24,
   "id": "17466b53",
   "metadata": {},
   "outputs": [
    {
     "name": "stdout",
     "output_type": "stream",
     "text": [
      "{'London': {'August': 6, 'July': 6, 'June': 5}, 'Tokyo': {'August': 5, 'July': 5, 'June': 4}, 'Sydney': {'August': 6, 'July': 6, 'June': 5}, 'Cairo': {'August': 5, 'July': 5, 'June': 4}, 'Rio': {'August': 5, 'July': 6, 'June': 4}}\n"
     ]
    }
   ],
   "source": [
    "from pandas import DataFrame\n",
    "\n",
    "df = pd.read_csv(\"city_temperature.csv\")\n",
    "df['Month'] = pd.to_datetime(df['Date'], dayfirst=True).dt.month_name(locale='English')\n",
    "def count_consecutive_days_above_average(df: DataFrame):\n",
    "    dict = {}\n",
    "    for city in df.columns.drop(\"Date\").drop(\"Month\"):\n",
    "        hotStreaksDict = {}\n",
    "        avgMeanTempMonthWiseDict = df.groupby(\"Month\")[city].mean().to_dict()    \n",
    "        for kvp in avgMeanTempMonthWiseDict:\n",
    "            count = 0\n",
    "            dx = df[[\"Month\", city]]\n",
    "            dx = dx[dx[\"Month\"] == kvp]\n",
    "            chunk_size = 5\n",
    "            chunks = [dx.iloc[i:i+chunk_size] for i in range(0, len(dx), chunk_size)]\n",
    "            # print(chunks)\n",
    "            for ch in chunks:\n",
    "            # print(ch[city].max())\n",
    "                if(ch[city].max() > avgMeanTempMonthWiseDict[kvp]):\n",
    "                    count += 1\n",
    "            # print(avgMeanTempMonthWiseDict[kvp])\n",
    "            # print( city, kvp, avgMeanTempMonthWiseDict[kvp], count)\n",
    "            hotStreaksDict[kvp] = count\n",
    "        dict[city] = hotStreaksDict\n",
    "    return dict\n",
    "\n",
    "print(count_consecutive_days_above_average(df))\n",
    "\n",
    "    \n",
    "\n"
   ]
  },
  {
   "cell_type": "code",
   "execution_count": 25,
   "id": "c3495b74",
   "metadata": {},
   "outputs": [
    {
     "name": "stdout",
     "output_type": "stream",
     "text": [
      "Subject wise Toppers: {'Math': ['Rachel Mcneil', 'Ashley Garcia', 'Heidi Edwards'], 'Science': ['Benjamin Stein'], 'English': ['Warren Harris']}\n",
      "Overall Toppers: ['Ashley Garcia']\n"
     ]
    }
   ],
   "source": [
    "from pandas import DataFrame\n",
    "\n",
    "df = pd.read_csv(\"student_scores.csv\")\n",
    "\n",
    "def toppers(df: DataFrame):\n",
    "    df[\"Total\"] = df[\"Math\"] + df[\"Science\"] + df[\"English\"]\n",
    "    #print(df)\n",
    "    subjects = df.columns.drop(['Name','Attendance (%)','Project Submitted', 'Total'])\n",
    "    #print(subjects)\n",
    "    subject_wise_topper = {}\n",
    "    for subject in subjects:\n",
    "        dx = df.loc[(df[\"Attendance (%)\"] > 60) & (df[\"Project Submitted\"] == True), [\"Name\", subject]]\n",
    "        max_mark = dx[subject].max()\n",
    "        df2 = dx.query(f'{subject} == {max_mark}')\n",
    "        subject_wise_topper[subject] = df2[\"Name\"].to_list()\n",
    "    #print(subject_wise_topper)\n",
    "\n",
    "    dx = df.loc[(df[\"Attendance (%)\"] > 60) & (df[\"Project Submitted\"] == True), [\"Name\", \"Total\"]]\n",
    "    max_mark = dx[\"Total\"].max()\n",
    "    df2 = dx.query(f'Total == {max_mark}')\n",
    "    #print(df2.Name.tolist())\n",
    "    return  (subject_wise_topper, df2.Name.tolist())\n",
    "\n",
    "(subject_wise_topper, over_all_topper) = toppers(df)\n",
    "print(\"Subject wise Toppers:\", subject_wise_topper)\n",
    "print(\"Overall Toppers:\", over_all_topper)"
   ]
  },
  {
   "cell_type": "code",
   "execution_count": 26,
   "id": "5dcd53be",
   "metadata": {},
   "outputs": [
    {
     "name": "stdout",
     "output_type": "stream",
     "text": [
      "                Name  Math  Science  English  Attendance (%)  \\\n",
      "0       Robert Roman    78       93       96           96.55   \n",
      "1     Joseph Sanchez    91       62       60           98.71   \n",
      "2     Christina Hall    68       76       57           99.80   \n",
      "3          Ann Brown    54       79       94           52.79   \n",
      "4     Thomas Herrera    82       96       86           86.85   \n",
      "..               ...   ...      ...      ...             ...   \n",
      "195     Brian Jacobs    82       39       97           93.42   \n",
      "196    Jacob Walters    68       40       67           54.23   \n",
      "197       Eric Curry    75       81       60           79.86   \n",
      "198  Sara Valdez DDS    52       89       83           99.31   \n",
      "199   Jessica Barnes    71       74       89           76.83   \n",
      "\n",
      "     Project Submitted  Average Score Grade       Performance  \n",
      "0                 True      89.000000     B      Satisfactory  \n",
      "1                 True      71.000000     C      Satisfactory  \n",
      "2                False      67.000000     C  Attention Needed  \n",
      "3                 True      75.666667     B  Attention Needed  \n",
      "4                 True      88.000000     B      Satisfactory  \n",
      "..                 ...            ...   ...               ...  \n",
      "195              False      72.666667     C  Attention Needed  \n",
      "196               True      58.333333     D  Attention Needed  \n",
      "197               True      72.000000     C      Satisfactory  \n",
      "198              False      74.666667     C  Attention Needed  \n",
      "199               True      78.000000     B      Satisfactory  \n",
      "\n",
      "[200 rows x 9 columns]\n"
     ]
    }
   ],
   "source": [
    "from pandas import DataFrame\n",
    "df = pd.read_csv(\"student_scores.csv\")\n",
    "\n",
    "def Grade(avgMarks : float):\n",
    "    if(avgMarks >= 90):\n",
    "        return \"A\"\n",
    "    elif(avgMarks >= 75 and avgMarks <= 89.99):\n",
    "        return \"B\"\n",
    "    elif(avgMarks >=60 and avgMarks <= 74.99):\n",
    "        return \"C\"\n",
    "    else:\n",
    "        return \"D\"\n",
    "\n",
    "def Performance(row):\n",
    "    if(row[\"Grade\"] == \"A\" and row[\"Attendance (%)\"] > 90 and row[\"Project Submitted\"] == True):\n",
    "        return \"Excellent\"\n",
    "    elif(row[\"Grade\"] == \"D\" or row[\"Project Submitted\"] == False or row[\"Attendance (%)\"] < 60):\n",
    "        return \"Attention Needed\"\n",
    "    else:\n",
    "        return \"Satisfactory\"\n",
    "\n",
    "def Avg_Score_Grade_Performance(df: DataFrame):   \n",
    "    df[\"Average Score\"] = (df[\"Math\"] + df[\"Science\"] + df[\"English\"]) / 3\n",
    "    df[\"Grade\"] = df[\"Average Score\"].apply(Grade)\n",
    "    df[\"Performance\"] = df.apply(Performance, axis=1)\n",
    "    return df\n",
    "\n",
    "dataframe = Avg_Score_Grade_Performance(df)\n",
    "print(dataframe)"
   ]
  },
  {
   "cell_type": "code",
   "execution_count": 27,
   "id": "e5d7fc05",
   "metadata": {},
   "outputs": [],
   "source": [
    "from pandas import DataFrame\n",
    "df = pd.read_csv(\"student_scores.csv\")\n",
    "\n",
    "def Grade(avgMarks : float):\n",
    "    if(avgMarks >= 90):\n",
    "        return \"A\"\n",
    "    elif(avgMarks >= 75 and avgMarks <= 89.99):\n",
    "        return \"B\"\n",
    "    elif(avgMarks >=60 and avgMarks <= 74.99):\n",
    "        return \"C\"\n",
    "    else:\n",
    "        return \"D\"\n",
    "\n",
    "def Performance(row):\n",
    "    if(row[\"Grade\"] == \"A\" and row[\"Attendance (%)\"] > 90 and row[\"Project Submitted\"] == True):\n",
    "        return \"Excellent\"\n",
    "    elif(row[\"Grade\"] == \"D\" or row[\"Project Submitted\"] == False or row[\"Attendance (%)\"] < 60):\n",
    "        return \"Attention Needed\"\n",
    "    else:\n",
    "        return \"Satisfactory\"\n",
    "\n",
    "def Avg_Score_Grade_Performance(df: DataFrame):   \n",
    "    df[\"Average Score\"] = (df[\"Math\"] + df[\"Science\"] + df[\"English\"]) / 3\n",
    "    df[\"Grade\"] = df[\"Average Score\"].apply(Grade)\n",
    "    df[\"Performance\"] = df.apply(Performance, axis=1)\n",
    "    return df\n",
    "\n",
    "dataframe = Avg_Score_Grade_Performance(df)\n",
    "dataframe.to_csv(\"student_statistics.csv\")"
   ]
  }
 ],
 "metadata": {
  "kernelspec": {
   "display_name": ".venv",
   "language": "python",
   "name": "python3"
  },
  "language_info": {
   "codemirror_mode": {
    "name": "ipython",
    "version": 3
   },
   "file_extension": ".py",
   "mimetype": "text/x-python",
   "name": "python",
   "nbconvert_exporter": "python",
   "pygments_lexer": "ipython3",
   "version": "3.13.2"
  }
 },
 "nbformat": 4,
 "nbformat_minor": 5
}
